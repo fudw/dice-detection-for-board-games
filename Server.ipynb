{
 "cells": [
  {
   "cell_type": "code",
   "execution_count": 1,
   "metadata": {},
   "outputs": [],
   "source": [
    "import os\n",
    "import cv2\n",
    "import torch\n",
    "import torchvision\n",
    "from PIL import Image\n",
    "import time\n",
    "import numpy as np\n",
    "from pydantic import BaseModel\n",
    "import pandas as pd"
   ]
  },
  {
   "cell_type": "code",
   "execution_count": 2,
   "metadata": {},
   "outputs": [
    {
     "name": "stderr",
     "output_type": "stream",
     "text": [
      "Using cache found in C:\\Users\\fudawei/.cache\\torch\\hub\\ultralytics_yolov5_master\n",
      "YOLOv5  2022-2-17 torch 1.10.2+cpu CPU\n",
      "\n",
      "Fusing layers... \n",
      "Model Summary: 232 layers, 7260003 parameters, 0 gradients\n",
      "Adding AutoShape... \n"
     ]
    }
   ],
   "source": [
    "model_dice = torch.hub.load(\"ultralytics/yolov5\", \"custom\", path=\"best.pt\", force_reload=False, device=\"cuda\" if torch.cuda.is_available() else \"cpu\")\n",
    "model_dice.conf = 0.6\n",
    "model_dice.iou = 0.01"
   ]
  },
  {
   "cell_type": "code",
   "execution_count": 3,
   "metadata": {},
   "outputs": [
    {
     "name": "stderr",
     "output_type": "stream",
     "text": [
      "Using cache found in C:\\Users\\fudawei/.cache\\torch\\hub\\ultralytics_yolov5_master\n",
      "YOLOv5  2022-2-17 torch 1.10.2+cpu CPU\n",
      "\n",
      "Fusing layers... \n",
      "Model Summary: 213 layers, 7225885 parameters, 0 gradients\n",
      "Adding AutoShape... \n"
     ]
    }
   ],
   "source": [
    "model_test = torch.hub.load(\"ultralytics/yolov5\", \"yolov5s\")"
   ]
  },
  {
   "cell_type": "code",
   "execution_count": 25,
   "metadata": {},
   "outputs": [],
   "source": [
    "cap = cv2.VideoCapture(0)"
   ]
  },
  {
   "cell_type": "code",
   "execution_count": 24,
   "metadata": {},
   "outputs": [
    {
     "ename": "OSError",
     "evalue": "Cannot open",
     "output_type": "error",
     "traceback": [
      "\u001b[1;31m---------------------------------------------------------------------------\u001b[0m",
      "\u001b[1;31mOSError\u001b[0m                                   Traceback (most recent call last)",
      "\u001b[1;32m<ipython-input-24-c8adcb86df57>\u001b[0m in \u001b[0;36m<module>\u001b[1;34m\u001b[0m\n\u001b[0;32m      1\u001b[0m \u001b[1;32mif\u001b[0m \u001b[1;32mnot\u001b[0m \u001b[0mcap\u001b[0m\u001b[1;33m.\u001b[0m\u001b[0misOpened\u001b[0m\u001b[1;33m(\u001b[0m\u001b[1;33m)\u001b[0m\u001b[1;33m:\u001b[0m\u001b[1;33m\u001b[0m\u001b[1;33m\u001b[0m\u001b[0m\n\u001b[1;32m----> 2\u001b[1;33m     \u001b[1;32mraise\u001b[0m \u001b[0mIOError\u001b[0m\u001b[1;33m(\u001b[0m\u001b[1;34m\"Cannot open\"\u001b[0m\u001b[1;33m)\u001b[0m\u001b[1;33m\u001b[0m\u001b[1;33m\u001b[0m\u001b[0m\n\u001b[0m",
      "\u001b[1;31mOSError\u001b[0m: Cannot open"
     ]
    }
   ],
   "source": [
    "if not cap.isOpened():\n",
    "    raise IOError(\"Cannot open\")"
   ]
  },
  {
   "cell_type": "code",
   "execution_count": 26,
   "metadata": {},
   "outputs": [
    {
     "ename": "KeyboardInterrupt",
     "evalue": "",
     "output_type": "error",
     "traceback": [
      "\u001b[1;31m---------------------------------------------------------------------------\u001b[0m",
      "\u001b[1;31mKeyboardInterrupt\u001b[0m                         Traceback (most recent call last)",
      "\u001b[1;32m<ipython-input-26-85df085c7aca>\u001b[0m in \u001b[0;36m<module>\u001b[1;34m\u001b[0m\n\u001b[0;32m     12\u001b[0m     \u001b[1;31m#time.sleep(1)\u001b[0m\u001b[1;33m\u001b[0m\u001b[1;33m\u001b[0m\u001b[1;33m\u001b[0m\u001b[0m\n\u001b[0;32m     13\u001b[0m     \u001b[0mcv2\u001b[0m\u001b[1;33m.\u001b[0m\u001b[0mimshow\u001b[0m\u001b[1;33m(\u001b[0m\u001b[1;34m\"input\"\u001b[0m\u001b[1;33m,\u001b[0m \u001b[0mframe\u001b[0m\u001b[1;33m)\u001b[0m\u001b[1;33m\u001b[0m\u001b[1;33m\u001b[0m\u001b[0m\n\u001b[1;32m---> 14\u001b[1;33m     \u001b[0mc\u001b[0m \u001b[1;33m=\u001b[0m \u001b[0mcv2\u001b[0m\u001b[1;33m.\u001b[0m\u001b[0mwaitKey\u001b[0m\u001b[1;33m(\u001b[0m\u001b[1;36m1\u001b[0m\u001b[1;33m)\u001b[0m\u001b[1;33m\u001b[0m\u001b[1;33m\u001b[0m\u001b[0m\n\u001b[0m\u001b[0;32m     15\u001b[0m     \u001b[1;32mif\u001b[0m \u001b[0mc\u001b[0m \u001b[1;33m==\u001b[0m \u001b[1;36m27\u001b[0m\u001b[1;33m:\u001b[0m\u001b[1;33m\u001b[0m\u001b[1;33m\u001b[0m\u001b[0m\n\u001b[0;32m     16\u001b[0m         \u001b[1;32mbreak\u001b[0m\u001b[1;33m\u001b[0m\u001b[1;33m\u001b[0m\u001b[0m\n",
      "\u001b[1;31mKeyboardInterrupt\u001b[0m: "
     ]
    }
   ],
   "source": [
    "while True:\n",
    "    ret, frame = cap.read()\n",
    "    frame = cv2.cvtColor(frame, cv2.COLOR_BGR2RGB)\n",
    "    #print(frame.shape)\n",
    "    #detect = model(frame)\n",
    "    #detect.render()\n",
    "    #for img in detect.imgs:\n",
    "        #img = frame\n",
    "        #cv2.imshow(\"output\", frame)\n",
    "        #image = Image.fromarray(img)\n",
    "        #image.show(image)\n",
    "    #time.sleep(1)\n",
    "    cv2.imshow(\"input\", frame)\n",
    "    c = cv2.waitKey(1)\n",
    "    if c == 27:\n",
    "        break\n"
   ]
  },
  {
   "cell_type": "code",
   "execution_count": 27,
   "metadata": {},
   "outputs": [],
   "source": [
    "#ret, frame = cap.read()\n",
    "#cv2.imshow(\"Input\", frame)\n",
    "cap.release()\n",
    "cv2.destroyAllWindows()"
   ]
  },
  {
   "cell_type": "code",
   "execution_count": 3,
   "metadata": {},
   "outputs": [],
   "source": [
    "img = cv2.imread(r\"WIN_20220215_15_37_24_Pro.jpg\")\n",
    "img = cv2.cvtColor(img, cv2.COLOR_BGR2RGB)"
   ]
  },
  {
   "cell_type": "code",
   "execution_count": 4,
   "metadata": {},
   "outputs": [],
   "source": [
    "img = Image.open(\"WIN_20220215_15_37_24_Pro.jpg\")"
   ]
  },
  {
   "cell_type": "code",
   "execution_count": 5,
   "metadata": {},
   "outputs": [
    {
     "name": "stderr",
     "output_type": "stream",
     "text": [
      "C:\\Users\\fudawei\\Anaconda3\\lib\\site-packages\\torch\\autocast_mode.py:141: UserWarning: User provided device_type of 'cuda', but CUDA is not available. Disabling\n",
      "  warnings.warn('User provided device_type of \\'cuda\\', but CUDA is not available. Disabling')\n"
     ]
    }
   ],
   "source": [
    "result = model(img)"
   ]
  },
  {
   "cell_type": "code",
   "execution_count": 6,
   "metadata": {},
   "outputs": [],
   "source": [
    "#result.render()\n",
    "result.show()"
   ]
  },
  {
   "cell_type": "code",
   "execution_count": 28,
   "metadata": {},
   "outputs": [
    {
     "data": {
      "text/plain": [
       "numpy.ndarray"
      ]
     },
     "execution_count": 28,
     "metadata": {},
     "output_type": "execute_result"
    }
   ],
   "source": [
    "type(img)"
   ]
  },
  {
   "cell_type": "code",
   "execution_count": 28,
   "metadata": {},
   "outputs": [],
   "source": [
    "image = cv2.cvtColor(img, cv2.COLOR_BGR2RGB)\n",
    "image = Image.fromarray(image)\n",
    "image.show(image)"
   ]
  },
  {
   "cell_type": "code",
   "execution_count": 112,
   "metadata": {
    "scrolled": true
   },
   "outputs": [
    {
     "data": {
      "text/html": [
       "<div>\n",
       "<style scoped>\n",
       "    .dataframe tbody tr th:only-of-type {\n",
       "        vertical-align: middle;\n",
       "    }\n",
       "\n",
       "    .dataframe tbody tr th {\n",
       "        vertical-align: top;\n",
       "    }\n",
       "\n",
       "    .dataframe thead th {\n",
       "        text-align: right;\n",
       "    }\n",
       "</style>\n",
       "<table border=\"1\" class=\"dataframe\">\n",
       "  <thead>\n",
       "    <tr style=\"text-align: right;\">\n",
       "      <th></th>\n",
       "      <th>xmin</th>\n",
       "      <th>ymin</th>\n",
       "      <th>xmax</th>\n",
       "      <th>ymax</th>\n",
       "      <th>confidence</th>\n",
       "      <th>class</th>\n",
       "      <th>name</th>\n",
       "    </tr>\n",
       "  </thead>\n",
       "  <tbody>\n",
       "    <tr>\n",
       "      <th>0</th>\n",
       "      <td>656.965942</td>\n",
       "      <td>2454.889160</td>\n",
       "      <td>843.334595</td>\n",
       "      <td>2634.050049</td>\n",
       "      <td>0.914676</td>\n",
       "      <td>3</td>\n",
       "      <td>4</td>\n",
       "    </tr>\n",
       "    <tr>\n",
       "      <th>1</th>\n",
       "      <td>785.053467</td>\n",
       "      <td>1153.781494</td>\n",
       "      <td>948.521790</td>\n",
       "      <td>1314.674316</td>\n",
       "      <td>0.904330</td>\n",
       "      <td>0</td>\n",
       "      <td>1</td>\n",
       "    </tr>\n",
       "    <tr>\n",
       "      <th>2</th>\n",
       "      <td>1139.915771</td>\n",
       "      <td>2341.445312</td>\n",
       "      <td>1325.351562</td>\n",
       "      <td>2513.143311</td>\n",
       "      <td>0.898576</td>\n",
       "      <td>0</td>\n",
       "      <td>1</td>\n",
       "    </tr>\n",
       "    <tr>\n",
       "      <th>3</th>\n",
       "      <td>2297.536865</td>\n",
       "      <td>2186.107910</td>\n",
       "      <td>2457.154785</td>\n",
       "      <td>2327.589600</td>\n",
       "      <td>0.896783</td>\n",
       "      <td>4</td>\n",
       "      <td>5</td>\n",
       "    </tr>\n",
       "    <tr>\n",
       "      <th>4</th>\n",
       "      <td>1502.370605</td>\n",
       "      <td>2617.429199</td>\n",
       "      <td>1676.412842</td>\n",
       "      <td>2788.376709</td>\n",
       "      <td>0.896279</td>\n",
       "      <td>1</td>\n",
       "      <td>2</td>\n",
       "    </tr>\n",
       "    <tr>\n",
       "      <th>5</th>\n",
       "      <td>1642.406128</td>\n",
       "      <td>789.658569</td>\n",
       "      <td>1798.434937</td>\n",
       "      <td>937.577087</td>\n",
       "      <td>0.886416</td>\n",
       "      <td>3</td>\n",
       "      <td>4</td>\n",
       "    </tr>\n",
       "    <tr>\n",
       "      <th>6</th>\n",
       "      <td>707.199585</td>\n",
       "      <td>1883.278931</td>\n",
       "      <td>880.764099</td>\n",
       "      <td>2049.059570</td>\n",
       "      <td>0.886046</td>\n",
       "      <td>0</td>\n",
       "      <td>1</td>\n",
       "    </tr>\n",
       "    <tr>\n",
       "      <th>7</th>\n",
       "      <td>1170.532959</td>\n",
       "      <td>2018.976074</td>\n",
       "      <td>1336.167847</td>\n",
       "      <td>2180.095703</td>\n",
       "      <td>0.883724</td>\n",
       "      <td>1</td>\n",
       "      <td>2</td>\n",
       "    </tr>\n",
       "    <tr>\n",
       "      <th>8</th>\n",
       "      <td>556.366638</td>\n",
       "      <td>2187.046387</td>\n",
       "      <td>718.900269</td>\n",
       "      <td>2334.593750</td>\n",
       "      <td>0.872420</td>\n",
       "      <td>0</td>\n",
       "      <td>1</td>\n",
       "    </tr>\n",
       "    <tr>\n",
       "      <th>9</th>\n",
       "      <td>1486.517700</td>\n",
       "      <td>859.192444</td>\n",
       "      <td>1648.670654</td>\n",
       "      <td>1009.107361</td>\n",
       "      <td>0.872234</td>\n",
       "      <td>0</td>\n",
       "      <td>1</td>\n",
       "    </tr>\n",
       "    <tr>\n",
       "      <th>10</th>\n",
       "      <td>1817.951050</td>\n",
       "      <td>2645.848877</td>\n",
       "      <td>2000.075317</td>\n",
       "      <td>2824.569092</td>\n",
       "      <td>0.850227</td>\n",
       "      <td>0</td>\n",
       "      <td>1</td>\n",
       "    </tr>\n",
       "    <tr>\n",
       "      <th>11</th>\n",
       "      <td>914.482788</td>\n",
       "      <td>1935.411377</td>\n",
       "      <td>1070.639282</td>\n",
       "      <td>2087.912109</td>\n",
       "      <td>0.848131</td>\n",
       "      <td>3</td>\n",
       "      <td>4</td>\n",
       "    </tr>\n",
       "    <tr>\n",
       "      <th>12</th>\n",
       "      <td>2266.164795</td>\n",
       "      <td>1197.792114</td>\n",
       "      <td>2427.510742</td>\n",
       "      <td>1348.558228</td>\n",
       "      <td>0.842231</td>\n",
       "      <td>1</td>\n",
       "      <td>2</td>\n",
       "    </tr>\n",
       "    <tr>\n",
       "      <th>13</th>\n",
       "      <td>1393.728760</td>\n",
       "      <td>2031.521729</td>\n",
       "      <td>1559.989868</td>\n",
       "      <td>2200.273682</td>\n",
       "      <td>0.841842</td>\n",
       "      <td>2</td>\n",
       "      <td>3</td>\n",
       "    </tr>\n",
       "    <tr>\n",
       "      <th>14</th>\n",
       "      <td>1304.982910</td>\n",
       "      <td>1074.051147</td>\n",
       "      <td>1467.110596</td>\n",
       "      <td>1232.061401</td>\n",
       "      <td>0.836546</td>\n",
       "      <td>0</td>\n",
       "      <td>1</td>\n",
       "    </tr>\n",
       "    <tr>\n",
       "      <th>15</th>\n",
       "      <td>469.243378</td>\n",
       "      <td>2015.280518</td>\n",
       "      <td>622.460266</td>\n",
       "      <td>2156.718262</td>\n",
       "      <td>0.810592</td>\n",
       "      <td>4</td>\n",
       "      <td>5</td>\n",
       "    </tr>\n",
       "    <tr>\n",
       "      <th>16</th>\n",
       "      <td>1532.429565</td>\n",
       "      <td>1393.592285</td>\n",
       "      <td>1693.443726</td>\n",
       "      <td>1541.070312</td>\n",
       "      <td>0.805165</td>\n",
       "      <td>3</td>\n",
       "      <td>4</td>\n",
       "    </tr>\n",
       "    <tr>\n",
       "      <th>17</th>\n",
       "      <td>2007.083130</td>\n",
       "      <td>1336.697144</td>\n",
       "      <td>2163.961670</td>\n",
       "      <td>1482.825073</td>\n",
       "      <td>0.770675</td>\n",
       "      <td>2</td>\n",
       "      <td>3</td>\n",
       "    </tr>\n",
       "    <tr>\n",
       "      <th>18</th>\n",
       "      <td>1282.740601</td>\n",
       "      <td>1648.612793</td>\n",
       "      <td>1444.719482</td>\n",
       "      <td>1805.264526</td>\n",
       "      <td>0.767339</td>\n",
       "      <td>2</td>\n",
       "      <td>3</td>\n",
       "    </tr>\n",
       "    <tr>\n",
       "      <th>19</th>\n",
       "      <td>1832.354736</td>\n",
       "      <td>1640.023315</td>\n",
       "      <td>1990.401611</td>\n",
       "      <td>1792.804443</td>\n",
       "      <td>0.702714</td>\n",
       "      <td>1</td>\n",
       "      <td>2</td>\n",
       "    </tr>\n",
       "    <tr>\n",
       "      <th>20</th>\n",
       "      <td>1966.117310</td>\n",
       "      <td>2182.385254</td>\n",
       "      <td>2124.664795</td>\n",
       "      <td>2334.294189</td>\n",
       "      <td>0.679177</td>\n",
       "      <td>4</td>\n",
       "      <td>5</td>\n",
       "    </tr>\n",
       "    <tr>\n",
       "      <th>21</th>\n",
       "      <td>1557.623657</td>\n",
       "      <td>1215.077026</td>\n",
       "      <td>1710.836792</td>\n",
       "      <td>1354.137207</td>\n",
       "      <td>0.609655</td>\n",
       "      <td>2</td>\n",
       "      <td>3</td>\n",
       "    </tr>\n",
       "  </tbody>\n",
       "</table>\n",
       "</div>"
      ],
      "text/plain": [
       "           xmin         ymin         xmax         ymax  confidence  class name\n",
       "0    656.965942  2454.889160   843.334595  2634.050049    0.914676      3    4\n",
       "1    785.053467  1153.781494   948.521790  1314.674316    0.904330      0    1\n",
       "2   1139.915771  2341.445312  1325.351562  2513.143311    0.898576      0    1\n",
       "3   2297.536865  2186.107910  2457.154785  2327.589600    0.896783      4    5\n",
       "4   1502.370605  2617.429199  1676.412842  2788.376709    0.896279      1    2\n",
       "5   1642.406128   789.658569  1798.434937   937.577087    0.886416      3    4\n",
       "6    707.199585  1883.278931   880.764099  2049.059570    0.886046      0    1\n",
       "7   1170.532959  2018.976074  1336.167847  2180.095703    0.883724      1    2\n",
       "8    556.366638  2187.046387   718.900269  2334.593750    0.872420      0    1\n",
       "9   1486.517700   859.192444  1648.670654  1009.107361    0.872234      0    1\n",
       "10  1817.951050  2645.848877  2000.075317  2824.569092    0.850227      0    1\n",
       "11   914.482788  1935.411377  1070.639282  2087.912109    0.848131      3    4\n",
       "12  2266.164795  1197.792114  2427.510742  1348.558228    0.842231      1    2\n",
       "13  1393.728760  2031.521729  1559.989868  2200.273682    0.841842      2    3\n",
       "14  1304.982910  1074.051147  1467.110596  1232.061401    0.836546      0    1\n",
       "15   469.243378  2015.280518   622.460266  2156.718262    0.810592      4    5\n",
       "16  1532.429565  1393.592285  1693.443726  1541.070312    0.805165      3    4\n",
       "17  2007.083130  1336.697144  2163.961670  1482.825073    0.770675      2    3\n",
       "18  1282.740601  1648.612793  1444.719482  1805.264526    0.767339      2    3\n",
       "19  1832.354736  1640.023315  1990.401611  1792.804443    0.702714      1    2\n",
       "20  1966.117310  2182.385254  2124.664795  2334.294189    0.679177      4    5\n",
       "21  1557.623657  1215.077026  1710.836792  1354.137207    0.609655      2    3"
      ]
     },
     "execution_count": 112,
     "metadata": {},
     "output_type": "execute_result"
    }
   ],
   "source": [
    "result.pandas().xyxy[0]"
   ]
  },
  {
   "cell_type": "code",
   "execution_count": 30,
   "metadata": {},
   "outputs": [
    {
     "data": {
      "text/plain": [
       "(480, 640, 3)"
      ]
     },
     "execution_count": 30,
     "metadata": {},
     "output_type": "execute_result"
    }
   ],
   "source": [
    "img.shape"
   ]
  },
  {
   "cell_type": "code",
   "execution_count": null,
   "metadata": {},
   "outputs": [],
   "source": [
    "cv2.destroyAllWindows()"
   ]
  },
  {
   "cell_type": "code",
   "execution_count": 6,
   "metadata": {},
   "outputs": [],
   "source": [
    "cap.release()"
   ]
  },
  {
   "cell_type": "code",
   "execution_count": 4,
   "metadata": {},
   "outputs": [],
   "source": [
    "import io\n",
    "import base64\n",
    "import json\n",
    "import uvicorn\n",
    "import nest_asyncio\n",
    "from fastapi import FastAPI, UploadFile, File, HTTPException\n",
    "from fastapi.responses import StreamingResponse"
   ]
  },
  {
   "cell_type": "code",
   "execution_count": 5,
   "metadata": {},
   "outputs": [],
   "source": [
    "class StreamInput(BaseModel):\n",
    "    b64str: str\n",
    "    model: str"
   ]
  },
  {
   "cell_type": "code",
   "execution_count": 6,
   "metadata": {},
   "outputs": [],
   "source": [
    "app = FastAPI(title=\"Dice detection\")"
   ]
  },
  {
   "cell_type": "code",
   "execution_count": 7,
   "metadata": {},
   "outputs": [],
   "source": [
    "@app.get(\"/\")\n",
    "def home():\n",
    "    return \"Server is running. Go to http://localhost:8080/docs\""
   ]
  },
  {
   "cell_type": "code",
   "execution_count": 8,
   "metadata": {},
   "outputs": [],
   "source": [
    "@app.post(\"/file/to-img\")\n",
    "def detect_return_image(image: UploadFile):\n",
    "    \n",
    "    image_stream = io.BytesIO(image.file.read())\n",
    "    image_stream.seek(0)\n",
    "    file_bytes = np.asarray(bytearray(image_stream.read()), dtype=np.uint8)\n",
    "    image = cv2.imdecode(file_bytes, cv2.IMREAD_COLOR)\n",
    "    image = cv2.cvtColor(image, cv2.COLOR_BGR2RGB)\n",
    "    \n",
    "    result = model_test(image)\n",
    "    result.render()\n",
    "    for img in result.imgs:\n",
    "        detected = cv2.cvtColor(img, cv2.COLOR_RGB2BGR)\n",
    "\n",
    "    _, encoded = cv2.imencode(\".jpg\", detected)\n",
    "    byte_output = encoded.tobytes()\n",
    "    \n",
    "    return StreamingResponse(io.BytesIO(byte_output), media_type=\"image/jpg\")\n",
    "    \n",
    "@app.post(\"/file/to-b64\")\n",
    "def detect_return_base64(image: UploadFile):\n",
    "    \n",
    "    image_stream = io.BytesIO(image.file.read())\n",
    "    image_stream.seek(0)\n",
    "    file_bytes = np.asarray(bytearray(image_stream.read()), dtype=np.uint8)\n",
    "    image = cv2.imdecode(file_bytes, cv2.IMREAD_COLOR)\n",
    "    image = cv2.cvtColor(image, cv2.COLOR_BGR2RGB)\n",
    "    \n",
    "    result = model_test(image)\n",
    "    result.render()\n",
    "    for img in result.imgs:\n",
    "        buffered = io.BytesIO()\n",
    "        img_object = Image.fromarray(img)\n",
    "        img_object.save(buffered, format=\"JPEG\")\n",
    "        img_base64 = base64.b64encode(buffered.getvalue())\n",
    "    \n",
    "    return img_base64\n",
    "\n",
    "\n",
    "@app.post(\"/file/to-json\")\n",
    "def detect_return_labels(image: UploadFile):\n",
    "    \n",
    "    image_stream = io.BytesIO(image.file.read())\n",
    "    image_stream.seek(0)\n",
    "    file_bytes = np.asarray(bytearray(image_stream.read()), dtype=np.uint8)\n",
    "    image = cv2.imdecode(file_bytes, cv2.IMREAD_COLOR)\n",
    "    image = cv2.cvtColor(image, cv2.COLOR_BGR2RGB)\n",
    "    result = model_test(image)\n",
    "    labels = result.pandas().xyxy[0].to_json(orient=\"records\")\n",
    "    \n",
    "    labels_json = json.loads(labels)\n",
    "    \n",
    "    return labels_json"
   ]
  },
  {
   "cell_type": "code",
   "execution_count": 9,
   "metadata": {},
   "outputs": [],
   "source": [
    "@app.post(\"/predict/to-img\")\n",
    "def detect_return_image(client_input: StreamInput):\n",
    "    image_bytes = base64.b64decode(client_input.b64str.encode(\"utf-8\"))\n",
    "    image_array = np.frombuffer(image_bytes, dtype=np.uint8) \n",
    "    image = cv2.imdecode(image_array, cv2.IMREAD_COLOR)\n",
    "    #image = cv2.cvtColor(image, cv2.COLOR_BGR2RGB)\n",
    "    if client_input.model == \"Dice\":\n",
    "        result = model_dice(image)\n",
    "    else:\n",
    "        result = model_test(image)\n",
    "    result.render()\n",
    "    for img in result.imgs:\n",
    "        detected = img#cv2.cvtColor(img, cv2.COLOR_RGB2BGR)\n",
    "    _, encoded = cv2.imencode(\".jpg\", detected)\n",
    "    byte_output = encoded.tobytes()\n",
    "    \n",
    "    return StreamingResponse(io.BytesIO(byte_output), media_type=\"image/jpg\")\n",
    "    \n",
    "@app.post(\"/predict/to-b64\")\n",
    "def detect_return_base64(client_input: StreamInput):\n",
    "    image_bytes = base64.b64decode(client_input.b64str.encode(\"utf-8\"))\n",
    "    image_array = np.frombuffer(image_bytes, dtype=np.uint8) \n",
    "    image = cv2.imdecode(image_array, cv2.IMREAD_COLOR)\n",
    "    image = cv2.cvtColor(image, cv2.COLOR_BGR2RGB)\n",
    "    if client_input.model == \"Dice\":\n",
    "        result = model_dice(image)\n",
    "    else:\n",
    "        result = model_test(image)\n",
    "    result.render()\n",
    "    for img in result.imgs:\n",
    "        buffered = io.BytesIO()\n",
    "        img_object = Image.fromarray(img)\n",
    "        img_object.save(buffered, format=\"JPEG\")\n",
    "        img_base64 = base64.b64encode(buffered.getvalue())\n",
    "    \n",
    "    return img_base64\n",
    "\n",
    "\n",
    "@app.post(\"/predict/to-json\")\n",
    "def detect_return_labels(client_input: StreamInput):\n",
    "    image_bytes = base64.b64decode(client_input.b64str.encode(\"utf-8\"))\n",
    "    image_array = np.frombuffer(image_bytes, dtype=np.uint8) \n",
    "    image = cv2.imdecode(image_array, cv2.IMREAD_COLOR)\n",
    "    image = cv2.cvtColor(image, cv2.COLOR_BGR2RGB)\n",
    "    if client_input.model == \"Dice\":\n",
    "        result = model_dice(image)\n",
    "    else:\n",
    "        result = model_test(image)\n",
    "    \n",
    "    df = result.pandas().xyxy[0]\n",
    "    labels = df.to_json(orient=\"records\")\n",
    "    labels_json = json.loads(labels)\n",
    "\n",
    "    return labels_json"
   ]
  },
  {
   "cell_type": "code",
   "execution_count": 14,
   "metadata": {
    "scrolled": true
   },
   "outputs": [
    {
     "name": "stderr",
     "output_type": "stream",
     "text": [
      "INFO:     Started server process [21660]\n",
      "Started server process [21660]\n",
      "INFO:     Waiting for application startup.\n",
      "Waiting for application startup.\n",
      "INFO:     Application startup complete.\n",
      "Application startup complete.\n",
      "INFO:     Uvicorn running on http://0.0.0.0:80 (Press CTRL+C to quit)\n",
      "Uvicorn running on http://0.0.0.0:80 (Press CTRL+C to quit)\n",
      "INFO:     Shutting down\n",
      "Shutting down\n",
      "INFO:     Waiting for application shutdown.\n",
      "Waiting for application shutdown.\n",
      "INFO:     Application shutdown complete.\n",
      "Application shutdown complete.\n",
      "INFO:     Finished server process [21660]\n",
      "Finished server process [21660]\n"
     ]
    }
   ],
   "source": [
    "nest_asyncio.apply()\n",
    "\n",
    "host = \"0.0.0.0\" #if os.getenv(\"DOCKER-SETUP\") else \"127.2.0.1\"\n",
    "\n",
    "uvicorn.run(app, host=host, port=80)"
   ]
  },
  {
   "cell_type": "code",
   "execution_count": 10,
   "metadata": {},
   "outputs": [],
   "source": [
    "os.getenv(\"DOCKER-SETUP\")"
   ]
  },
  {
   "cell_type": "code",
   "execution_count": 33,
   "metadata": {},
   "outputs": [
    {
     "name": "stderr",
     "output_type": "stream",
     "text": [
      "'ls' is not recognized as an internal or external command,\n",
      "operable program or batch file.\n"
     ]
    }
   ],
   "source": [
    "!ls"
   ]
  },
  {
   "cell_type": "code",
   "execution_count": null,
   "metadata": {},
   "outputs": [],
   "source": []
  }
 ],
 "metadata": {
  "kernelspec": {
   "display_name": "Python 3",
   "language": "python",
   "name": "python3"
  },
  "language_info": {
   "codemirror_mode": {
    "name": "ipython",
    "version": 3
   },
   "file_extension": ".py",
   "mimetype": "text/x-python",
   "name": "python",
   "nbconvert_exporter": "python",
   "pygments_lexer": "ipython3",
   "version": "3.8.3"
  }
 },
 "nbformat": 4,
 "nbformat_minor": 4
}
